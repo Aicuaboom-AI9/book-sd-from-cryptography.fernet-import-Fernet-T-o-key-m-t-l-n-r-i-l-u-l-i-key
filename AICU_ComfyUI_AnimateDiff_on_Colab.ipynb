{
  "cells": [
    {
      "cell_type": "markdown",
      "metadata": {
        "id": "view-in-github"
      },
      "source": [
        "<a href=\"https://colab.research.google.com/github/aicuai/coloso/blob/main/Coloso3/AICU_ComfyUI_on_Colab_for_Coloso3.ipynb\" target=\"_parent\"><img src=\"https://colab.research.google.com/assets/colab-badge.svg\" alt=\"Open In Colab\"/></a>"
      ]
    },
    {
      "cell_type": "markdown",
      "metadata": {
        "id": "aaaaaaaaaa"
      },
      "source": [
        "# ComfyUI+AnimateDiffのインストール https://j.aicu.ai/ComfyAnimateDiff\n",
        "\n",
        "この Google Colab向け notebook は ComfyUIを初心者向けに簡単に起動できるように解説・設定しています。\n",
        "\n",
        "原作は [ComfyUI-Manager](https://github.com/ltdrdata/ComfyUI-Manager) による [こちら](https://github.com/ltdrdata/ComfyUI-Manager/blob/main/notebooks/comfyui_colab_with_manager.ipynb)\n",
        "\n",
        "\n",
        "AICU mediaによる解説記事は[ここ](https://note.com/aicu/n/n876fab5a0736)から読めます\n",
        "\n",
        "■ ここからはじめる「ComfyUIマスターガイド」\n",
        "https://note.com/aicu/n/n876fab5a0736\n",
        "\n",
        "■ 書籍「ComfyUIマスターガイド」4月18日発売予定！\n",
        "\n",
        "本書の詳細は[こちら](https://note.com/aicu/n/nf5e8343921f3)！\n",
        "\n",
        "[![ComfyUIマスターガイド](https://raw.githubusercontent.com/aicuai/Book-SD-MasterGuide/refs/heads/main/images/comfyui-master-guide_flyer.webp)](https://note.com/aicu/n/nf5e8343921f3)\n"
      ]
    },
    {
      "cell_type": "code",
      "execution_count": null,
      "metadata": {
        "id": "bbbbbbbbbb"
      },
      "outputs": [],
      "source": [
        "# #@title Environment Setup\n",
        "\n",
        "from pathlib import Path\n",
        "\n",
        "OPTIONS = {}\n",
        "\n",
        "USE_GOOGLE_DRIVE = True  #@param {type:\"boolean\"}\n",
        "UPDATE_COMFY_UI = True  #@param {type:\"boolean\"}\n",
        "USE_COMFYUI_MANAGER = True  #@param {type:\"boolean\"}\n",
        "USE_CUSTOM_NODES_FOR_COLOSO = True #@param {type:\"boolean\"}\n",
        "INSTALL_CUSTOM_NODES_DEPENDENCIES = True  #@param {type:\"boolean\"}\n",
        "OPTIONS['USE_GOOGLE_DRIVE'] = USE_GOOGLE_DRIVE\n",
        "OPTIONS['UPDATE_COMFY_UI'] = UPDATE_COMFY_UI\n",
        "OPTIONS['USE_COMFYUI_MANAGER'] = USE_COMFYUI_MANAGER\n",
        "OPTIONS['USE_CUSTOM_NODES_FOR_COLOSO'] = USE_CUSTOM_NODES_FOR_COLOSO\n",
        "OPTIONS['INSTALL_CUSTOM_NODES_DEPENDENCIES'] = INSTALL_CUSTOM_NODES_DEPENDENCIES\n",
        "\n",
        "current_dir = !pwd\n",
        "WORKSPACE = f\"{current_dir[0]}/ComfyUI\"\n",
        "\n",
        "if OPTIONS['USE_GOOGLE_DRIVE']:\n",
        "    !echo \"Mounting Google Drive...\"\n",
        "    %cd /\n",
        "\n",
        "    from google.colab import drive\n",
        "    drive.mount('/content/drive')\n",
        "\n",
        "    WORKSPACE = \"/content/drive/MyDrive/ComfyUI\"\n",
        "    %cd /content/drive/MyDrive\n",
        "\n",
        "![ ! -d $WORKSPACE ] && echo -= Initial setup ComfyUI =- && git clone https://github.com/comfyanonymous/ComfyUI\n",
        "%cd $WORKSPACE\n",
        "\n",
        "if OPTIONS['UPDATE_COMFY_UI']:\n",
        "  !echo -= Updating ComfyUI =-\n",
        "\n",
        "  # Correction of the issue of permissions being deleted on Google Drive.\n",
        "  ![ -f \".ci/nightly/update_windows/update_comfyui_and_python_dependencies.bat\" ] && chmod 755 .ci/nightly/update_windows/update_comfyui_and_python_dependencies.bat\n",
        "  ![ -f \".ci/nightly/windows_base_files/run_nvidia_gpu.bat\" ] && chmod 755 .ci/nightly/windows_base_files/run_nvidia_gpu.bat\n",
        "  ![ -f \".ci/update_windows/update_comfyui_and_python_dependencies.bat\" ] && chmod 755 .ci/update_windows/update_comfyui_and_python_dependencies.bat\n",
        "  ![ -f \".ci/update_windows_cu118/update_comfyui_and_python_dependencies.bat\" ] && chmod 755 .ci/update_windows_cu118/update_comfyui_and_python_dependencies.bat\n",
        "  ![ -f \".ci/update_windows/update.py\" ] && chmod 755 .ci/update_windows/update.py\n",
        "  ![ -f \".ci/update_windows/update_comfyui.bat\" ] && chmod 755 .ci/update_windows/update_comfyui.bat\n",
        "  ![ -f \".ci/update_windows/README_VERY_IMPORTANT.txt\" ] && chmod 755 .ci/update_windows/README_VERY_IMPORTANT.txt\n",
        "  ![ -f \".ci/update_windows/run_cpu.bat\" ] && chmod 755 .ci/update_windows/run_cpu.bat\n",
        "  ![ -f \".ci/update_windows/run_nvidia_gpu.bat\" ] && chmod 755 .ci/update_windows/run_nvidia_gpu.bat\n",
        "\n",
        "  !git pull\n",
        "\n",
        "!echo -= Install dependencies =-\n",
        "!pip3 install accelerate\n",
        "!pip3 install einops transformers>=4.25.1 safetensors>=0.3.0 aiohttp pyyaml Pillow scipy tqdm psutil\n",
        "!pip3 install torch torchvision torchaudio --index-url https://download.pytorch.org/whl/cu121\n",
        "!pip3 install torchsde\n",
        "!pip3 install kornia>=0.7.1 spandrel\n",
        "\n",
        "if OPTIONS['USE_COMFYUI_MANAGER']:\n",
        "  %cd custom_nodes\n",
        "\n",
        "  # Correction of the issue of permissions being deleted on Google Drive.\n",
        "  ![ -f \"ComfyUI-Manager/check.sh\" ] && chmod 755 ComfyUI-Manager/check.sh\n",
        "  ![ -f \"ComfyUI-Manager/scan.sh\" ] && chmod 755 ComfyUI-Manager/scan.sh\n",
        "  ![ -f \"ComfyUI-Manager/node_db/dev/scan.sh\" ] && chmod 755 ComfyUI-Manager/node_db/dev/scan.sh\n",
        "  ![ -f \"ComfyUI-Manager/scripts/install-comfyui-venv-linux.sh\" ] && chmod 755 ComfyUI-Manager/scripts/install-comfyui-venv-linux.sh\n",
        "  ![ -f \"ComfyUI-Manager/scripts/install-comfyui-venv-win.bat\" ] && chmod 755 ComfyUI-Manager/scripts/install-comfyui-venv-win.bat\n",
        "\n",
        "  ![ ! -d ComfyUI-Manager ] && echo -= Initial setup ComfyUI-Manager =- && git clone https://github.com/ltdrdata/ComfyUI-Manager\n",
        "  %cd ComfyUI-Manager\n",
        "  !git pull\n",
        "\n",
        "  %cd $WORKSPACE\n",
        "\n",
        "if OPTIONS['USE_CUSTOM_NODES_FOR_COLOSO']:\n",
        "  %cd $WORKSPACE/custom_nodes\n",
        "\n",
        "  ## Remove existing custom nodes\n",
        "  !rm -rf comfyui_controlnet_aux\n",
        "  !rm -rf ComfyUI-Advanced-ControlNet\n",
        "  !rm -rf ComfyUI-KJNodes\n",
        "  !rm -rf ComfyUI_IPAdapter_plus\n",
        "  !rm -rf ComfyUI-AnimateDiff-Evolved\n",
        "  !rm -rf ComfyUI-Frame-Interpolation\n",
        "  !rm -rf ComfyUI-VideoHelperSuite\n",
        "\n",
        "  ## For ControlNet\n",
        "  !git clone https://github.com/Fannovel16/comfyui_controlnet_aux.git\n",
        "  !git clone https://github.com/Kosinkadink/ComfyUI-Advanced-ControlNet.git\n",
        "\n",
        "  ## For IP-Adapter\n",
        "  !git clone https://github.com/cubiq/ComfyUI_IPAdapter_plus.git\n",
        "\n",
        "  ## For AnimateDiff\n",
        "  !git clone https://github.com/Kosinkadink/ComfyUI-AnimateDiff-Evolved.git\n",
        "  !git clone https://github.com/Fannovel16/ComfyUI-Frame-Interpolation.git\n",
        "  !git clone https://github.com/Kosinkadink/ComfyUI-VideoHelperSuite.git\n",
        "\n",
        "  ## Others\n",
        "  !git clone https://github.com/kijai/ComfyUI-KJNodes.git\n",
        "\n",
        "  %cd $WORKSPACE\n",
        "\n",
        "%cd $WORKSPACE\n",
        "\n",
        "if OPTIONS['INSTALL_CUSTOM_NODES_DEPENDENCIES']:\n",
        "  !echo -= Install custom nodes dependencies =-\n",
        "  !pip install GitPython\n",
        "  !python custom_nodes/ComfyUI-Manager/cm-cli.py restore-dependencies\n"
      ]
    },
    {
      "cell_type": "markdown",
      "metadata": {
        "id": "cccccccccc"
      },
      "source": [
        "### 各種モデルのダウンロード"
      ]
    },
    {
      "cell_type": "code",
      "execution_count": null,
      "metadata": {
        "id": "dddddddddd"
      },
      "outputs": [],
      "source": [
        "# Checkpoints\n",
        "\n",
        "## SDXL\n",
        "!wget -c https://huggingface.co/stabilityai/stable-diffusion-xl-base-1.0/resolve/main/sd_xl_base_1.0.safetensors -P ./models/checkpoints/\n",
        "!wget -c https://huggingface.co/SG161222/RealVisXL_V5.0_Lightning/resolve/main/RealVisXL_V5.0_Lightning_fp16.safetensors -P ./models/checkpoints/\n",
        "!wget -c https://civitai.com/api/download/models/330157?type=Model&format=SafeTensor&size=full&fp=fp16 -O ./models/checkpoints/aamXLAnimeMix_v10HalfturboEulera.safetensors\n",
        "\n",
        "# Loras\n",
        "!wget -c \"https://civitai.com/api/download/models/277389?type=Model&format=SafeTensor\" -O ./models/loras/ral-dissolve-sdxl.safetensors\n",
        "!wget -c \"https://civitai.com/api/download/models/155511?type=Model&format=SafeTensor\" -O ./models/loras/SDXLPaintSplash.safetensors\n",
        "\n",
        "# CLIP Vision\n",
        "!wget -c https://huggingface.co/h94/IP-Adapter/resolve/main/models/image_encoder/model.safetensors -O ./models/clip_vision/CLIP-ViT-H-14-laion2B-s32B-b79K.safetensors\n",
        "\n",
        "# ControlNet SDXL\n",
        "!wget -c https://huggingface.co/xinsir/controlnet-union-sdxl-1.0/resolve/main/diffusion_pytorch_model_promax.safetensors -O ./models/controlnet/controlnet-union-sdxl-1.0-promax.safetensors\n",
        "!wget -c https://huggingface.co/2vXpSwA7/iroiro-lora/resolve/main/test_controlnet2/CN-anytest_v4-marged.safetensors -P ./models/controlnet/\n",
        "\n",
        "# IP-Adapter\n",
        "!wget -c https://huggingface.co/h94/IP-Adapter/resolve/main/sdxl_models/ip-adapter-plus_sdxl_vit-h.safetensors -P ./models/ipadapter\n",
        "\n",
        "# AnimateDiff\n",
        "!wget \"https://civitai.com/api/download/models/219642?type=Model&format=PickleTensor\" -O ./models/animatediff_models/mm_sdxl_v10_beta.ckpt\n",
        "!wget -c https://huggingface.co/hotshotco/Hotshot-XL/resolve/main/hsxl_temporal_layers.f16.safetensors -P ./models/animatediff_models"
      ]
    },
    {
      "cell_type": "markdown",
      "metadata": {
        "id": "96ZcZ5qJMOdI"
      },
      "source": [
        "### 素材のダウンロード"
      ]
    },
    {
      "cell_type": "code",
      "execution_count": null,
      "metadata": {
        "id": "3iTGS_5YMSAo"
      },
      "outputs": [],
      "source": [
        "# Download images\n",
        "!wget -c https://github.com/aicuai/Book-SD-MasterGuide/blob/main/images/landscape_01.jpeg?raw=true -O ./input/landscape_01.jpeg\n",
        "!wget -c https://github.com/aicuai/Book-SD-MasterGuide/blob/main/images/landscape_02.jpg?raw=true -O ./input/landscape_02.jpg\n",
        "!wget -c https://github.com/aicuai/Book-SD-MasterGuide/blob/main/images/fire_castle.jpeg?raw=true -O ./input/fire_castle.jpeg\n",
        "!wget -c https://github.com/aicuai/Book-SD-MasterGuide/blob/main/images/girl_01.jpg?raw=true -O ./input/girl_01.jpg\n",
        "!wget -c https://github.com/aicuai/Book-SD-MasterGuide/blob/main/images/girl_02.jpg?raw=true -O ./input/girl_02.jpeg\n",
        "!wget -c https://github.com/aicuai/Book-SD-MasterGuide/raw/refs/heads/main/videos/man_dancing_720_1280_25fps.mp4 -P ./input/\n",
        "!wget -c https://github.com/aicuai/Book-SD-MasterGuide/raw/refs/heads/main/videos/720p_girl_selfie_01.mp4 -P ./input/"
      ]
    },
    {
      "cell_type": "markdown",
      "metadata": {
        "id": "yvtg83RTgAkn"
      },
      "source": [
        "### ワークフローのダウンロード"
      ]
    },
    {
      "cell_type": "code",
      "execution_count": null,
      "metadata": {
        "id": "Xzfrjq9IgEyO"
      },
      "outputs": [],
      "source": [
        "# Download workflows\n",
        "!wget -c https://raw.githubusercontent.com/aicuai/Book-SD-MasterGuide/refs/heads/main/workflows/workflow_animatediff_create_background.json -P ./user/default/workflows/\n",
        "!wget -c https://raw.githubusercontent.com/aicuai/Book-SD-MasterGuide/refs/heads/main/workflows/workflow_animatediff_i2v.json -P ./user/default/workflows/\n",
        "!wget -c https://raw.githubusercontent.com/aicuai/Book-SD-MasterGuide/refs/heads/main/workflows/workflow_animatediff_v2v_with_lora.json -P ./user/default/workflows/\n",
        "!wget -c https://raw.githubusercontent.com/aicuai/Book-SD-MasterGuide/refs/heads/main/workflows/workflow_animatediff_t2v_with_ipadapter.json -P ./user/default/workflows/\n",
        "!wget -c https://raw.githubusercontent.com/aicuai/Book-SD-MasterGuide/refs/heads/main/workflows/workflow_animatediff_v2v.json -P ./user/default/workflows/\n",
        "!wget -c https://raw.githubusercontent.com/aicuai/Book-SD-MasterGuide/refs/heads/main/workflows/workflow_animatediff_t2v.json -P ./user/default/workflows/"
      ]
    },
    {
      "cell_type": "markdown",
      "metadata": {
        "id": "kkkkkkkkkkkkkkk"
      },
      "source": [
        "### ComfyUIの起動\n",
        "\n"
      ]
    },
    {
      "cell_type": "code",
      "execution_count": null,
      "metadata": {
        "id": "jjjjjjjjjjjjjj"
      },
      "outputs": [],
      "source": [
        "!wget https://github.com/cloudflare/cloudflared/releases/latest/download/cloudflared-linux-amd64.deb\n",
        "!dpkg -i cloudflared-linux-amd64.deb\n",
        "\n",
        "import subprocess\n",
        "import threading\n",
        "import time\n",
        "import socket\n",
        "import urllib.request\n",
        "\n",
        "def iframe_thread(port):\n",
        "  while True:\n",
        "      time.sleep(0.5)\n",
        "      sock = socket.socket(socket.AF_INET, socket.SOCK_STREAM)\n",
        "      result = sock.connect_ex(('127.0.0.1', port))\n",
        "      if result == 0:\n",
        "        break\n",
        "      sock.close()\n",
        "  print(\"\\nComfyUI finished loading, trying to launch cloudflared (if it gets stuck here cloudflared is having issues)\\n\")\n",
        "\n",
        "  p = subprocess.Popen([\"cloudflared\", \"tunnel\", \"--url\", \"http://127.0.0.1:{}\".format(port)], stdout=subprocess.PIPE, stderr=subprocess.PIPE)\n",
        "  for line in p.stderr:\n",
        "    l = line.decode()\n",
        "    if \"trycloudflare.com \" in l:\n",
        "      print(\"This is the URL to access ComfyUI:\", l[l.find(\"http\"):], end='')\n",
        "    #print(l, end='')\n",
        "\n",
        "\n",
        "threading.Thread(target=iframe_thread, daemon=True, args=(8188,)).start()\n",
        "\n",
        "!python main.py --dont-print-server"
      ]
    }
  ],
  "metadata": {
    "accelerator": "GPU",
    "colab": {
      "gpuType": "L4",
      "provenance": []
    },
    "kernelspec": {
      "display_name": "Python 3",
      "name": "python3"
    },
    "language_info": {
      "name": "python"
    }
  },
  "nbformat": 4,
  "nbformat_minor": 0
}
